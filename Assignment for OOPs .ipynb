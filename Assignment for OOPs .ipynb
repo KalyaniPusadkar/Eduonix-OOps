{
 "cells": [
  {
   "cell_type": "markdown",
   "id": "ae72d259",
   "metadata": {},
   "source": [
    "# OOPs Problem "
   ]
  },
  {
   "cell_type": "code",
   "execution_count": 2,
   "id": "27301c4b",
   "metadata": {},
   "outputs": [
    {
     "name": "stdout",
     "output_type": "stream",
     "text": [
      "horn\n",
      "None\n",
      "155 kmph\n",
      "None\n",
      "Extreme ranges 1600000 in black colour has high pitch horn and has 155 kmph speed\n",
      "Extreme is 4 seater\n",
      "horn\n",
      "None\n",
      "155 kmph\n",
      "None\n",
      "Rhino ranges 1600000 in black colour has high pitch horn and has 155 kmph speed\n",
      "Rhino is 4 seater\n"
     ]
    }
   ],
   "source": [
    "class Car:\n",
    " \n",
    "    # Instance attributes\n",
    "    def __init__(self, name, price, colour):\n",
    "        self.name = name\n",
    "        self.price = price\n",
    "        self.colour= colour\n",
    "\n",
    "    # instance method\n",
    "    def sound(self):\n",
    "        print(\"horn\")\n",
    " \n",
    "    # instance method\n",
    "    def speed(self):\n",
    "        print(\"155 kmph\")\n",
    "    \n",
    "    # instance method\n",
    "    def display(self):\n",
    "        return \"{} ranges {} in {} colour has high pitch horn and has 155 kmph speed\".format(self.name, self.price,self.colour)\n",
    " \n",
    " \n",
    "# Derived class (inherits from Car class)\n",
    "class Thar(Car):\n",
    "    def type(self,seater):\n",
    "        return \"{} is {}\".format(self.name, seater)\n",
    "    \n",
    "    \n",
    "# Derived class inherits attributes and\n",
    "# behavior from the parent class\n",
    "Extreme = Thar(\"Extreme\", 1600000 , \"black\")\n",
    "print(Extreme.sound())\n",
    "print(Extreme.speed()) \n",
    "print(Extreme.display())\n",
    "print(Extreme.type(\"4 seater\"))\n",
    "\n",
    "Rhino = Thar(\"Rhino\", 1600000 , \"black\")\n",
    "print(Rhino.sound())\n",
    "print(Rhino.speed()) \n",
    "print(Rhino.display())\n",
    "print(Rhino.type(\"4 seater\"))\n"
   ]
  },
  {
   "cell_type": "markdown",
   "id": "ad08e07e",
   "metadata": {},
   "source": [
    "# Try and Except Problem"
   ]
  },
  {
   "cell_type": "code",
   "execution_count": 6,
   "id": "d1943f01",
   "metadata": {},
   "outputs": [
    {
     "name": "stdout",
     "output_type": "stream",
     "text": [
      "A ZeroDivisionError occurred.\n"
     ]
    }
   ],
   "source": [
    "def divide_two_numbers(x, y):\n",
    "    result = x / y\n",
    "    return result\n",
    "\n",
    "try:\n",
    "  result = divide_two_numbers(6,0)\n",
    "  print(result)\n",
    "\n",
    "except ZeroDivisionError:\n",
    "  print(\"A ZeroDivisionError occurred.\")"
   ]
  }
 ],
 "metadata": {
  "kernelspec": {
   "display_name": "Python 3",
   "language": "python",
   "name": "python3"
  },
  "language_info": {
   "codemirror_mode": {
    "name": "ipython",
    "version": 3
   },
   "file_extension": ".py",
   "mimetype": "text/x-python",
   "name": "python",
   "nbconvert_exporter": "python",
   "pygments_lexer": "ipython3",
   "version": "3.8.8"
  }
 },
 "nbformat": 4,
 "nbformat_minor": 5
}
